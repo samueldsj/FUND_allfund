{
 "cells": [
  {
   "cell_type": "code",
   "execution_count": 5,
   "metadata": {
    "collapsed": true
   },
   "outputs": [],
   "source": [
    "import pandas as pd\n",
    "import pymysql\n",
    "import pandas.io.sql as sql"
   ]
  },
  {
   "cell_type": "markdown",
   "metadata": {},
   "source": [
    "### 数据获取"
   ]
  },
  {
   "cell_type": "code",
   "execution_count": 16,
   "metadata": {
    "collapsed": true
   },
   "outputs": [],
   "source": [
    "# 从mysql 读取已经获取的数据到  df 中\n",
    "try:\n",
    "    conn = pymysql.connect(host='localhost', port=3306, user='root', passwd='111111', db='STOCK', charset='utf8')\n",
    "    df = sql.read_sql('select * from Dfcf_allfund', conn) #将数据库读入dataframe\n",
    "    conn.close()\n",
    "except pymysql.Error as e:\n",
    "    print('Mysql Error %d: %s' %(e.args[0], e.args[1]))"
   ]
  },
  {
   "cell_type": "markdown",
   "metadata": {},
   "source": [
    "### 数据清理"
   ]
  },
  {
   "cell_type": "code",
   "execution_count": 14,
   "metadata": {},
   "outputs": [
    {
     "data": {
      "text/html": [
       "<div>\n",
       "<style>\n",
       "    .dataframe thead tr:only-child th {\n",
       "        text-align: right;\n",
       "    }\n",
       "\n",
       "    .dataframe thead th {\n",
       "        text-align: left;\n",
       "    }\n",
       "\n",
       "    .dataframe tbody tr th {\n",
       "        vertical-align: top;\n",
       "    }\n",
       "</style>\n",
       "<table border=\"1\" class=\"dataframe\">\n",
       "  <thead>\n",
       "    <tr style=\"text-align: right;\">\n",
       "      <th></th>\n",
       "      <th>1m</th>\n",
       "      <th>3m</th>\n",
       "      <th>6m</th>\n",
       "      <th>1y</th>\n",
       "      <th>3y</th>\n",
       "      <th>fs</th>\n",
       "    </tr>\n",
       "    <tr>\n",
       "      <th>name</th>\n",
       "      <th></th>\n",
       "      <th></th>\n",
       "      <th></th>\n",
       "      <th></th>\n",
       "      <th></th>\n",
       "      <th></th>\n",
       "    </tr>\n",
       "  </thead>\n",
       "  <tbody>\n",
       "    <tr>\n",
       "      <th>易方达天天理财货币A</th>\n",
       "      <td>0.35%</td>\n",
       "      <td>3.41%</td>\n",
       "      <td>1.04%</td>\n",
       "      <td>11.15%</td>\n",
       "      <td>1.97%</td>\n",
       "      <td>18.51%</td>\n",
       "    </tr>\n",
       "    <tr>\n",
       "      <th>易方达天天理财货币R</th>\n",
       "      <td>0.37%</td>\n",
       "      <td>3.67%</td>\n",
       "      <td>1.11%</td>\n",
       "      <td>11.98%</td>\n",
       "      <td>2.10%</td>\n",
       "      <td>19.83%</td>\n",
       "    </tr>\n",
       "    <tr>\n",
       "      <th>华夏大盘精选</th>\n",
       "      <td>-1.03%</td>\n",
       "      <td>16.19%</td>\n",
       "      <td>7.99%</td>\n",
       "      <td>64.20%</td>\n",
       "      <td>16.11%</td>\n",
       "      <td>1955.34%</td>\n",
       "    </tr>\n",
       "  </tbody>\n",
       "</table>\n",
       "</div>"
      ],
      "text/plain": [
       "                1m      3m     6m      1y      3y        fs\n",
       "name                                                       \n",
       "易方达天天理财货币A   0.35%   3.41%  1.04%  11.15%   1.97%    18.51%\n",
       "易方达天天理财货币R   0.37%   3.67%  1.11%  11.98%   2.10%    19.83%\n",
       "华夏大盘精选      -1.03%  16.19%  7.99%  64.20%  16.11%  1955.34%"
      ]
     },
     "execution_count": 14,
     "metadata": {},
     "output_type": "execute_result"
    }
   ],
   "source": [
    "# 设置name 为index\n",
    "df.drop(['id'],axis=1,inplace=True)\n",
    "data = df.set_index(['name']).copy()\n",
    "data.head(3)"
   ]
  },
  {
   "cell_type": "code",
   "execution_count": 20,
   "metadata": {
    "collapsed": true
   },
   "outputs": [],
   "source": [
    "def clean_num_in_column(column):\n",
    "    return column.apply(drop_percent_sign)\n",
    "\n",
    "# state中“%”替换“空”，并设为float，以便后续计算\n",
    "def drop_percent_sign(state): \n",
    "    if state.endswith('%'):\n",
    "        return float(state.replace('%','')) "
   ]
  },
  {
   "cell_type": "code",
   "execution_count": 21,
   "metadata": {
    "collapsed": true
   },
   "outputs": [],
   "source": [
    "data_drop_percent = data.apply(clean_num_in_column)"
   ]
  },
  {
   "cell_type": "markdown",
   "metadata": {},
   "source": [
    "### 数据清理完毕"
   ]
  },
  {
   "cell_type": "code",
   "execution_count": 23,
   "metadata": {},
   "outputs": [
    {
     "data": {
      "text/html": [
       "<div>\n",
       "<style>\n",
       "    .dataframe thead tr:only-child th {\n",
       "        text-align: right;\n",
       "    }\n",
       "\n",
       "    .dataframe thead th {\n",
       "        text-align: left;\n",
       "    }\n",
       "\n",
       "    .dataframe tbody tr th {\n",
       "        vertical-align: top;\n",
       "    }\n",
       "</style>\n",
       "<table border=\"1\" class=\"dataframe\">\n",
       "  <thead>\n",
       "    <tr style=\"text-align: right;\">\n",
       "      <th></th>\n",
       "      <th>1m</th>\n",
       "      <th>3m</th>\n",
       "      <th>6m</th>\n",
       "      <th>1y</th>\n",
       "      <th>3y</th>\n",
       "      <th>fs</th>\n",
       "    </tr>\n",
       "    <tr>\n",
       "      <th>name</th>\n",
       "      <th></th>\n",
       "      <th></th>\n",
       "      <th></th>\n",
       "      <th></th>\n",
       "      <th></th>\n",
       "      <th></th>\n",
       "    </tr>\n",
       "  </thead>\n",
       "  <tbody>\n",
       "    <tr>\n",
       "      <th>易方达天天理财货币A</th>\n",
       "      <td>0.35</td>\n",
       "      <td>3.41</td>\n",
       "      <td>1.04</td>\n",
       "      <td>11.15</td>\n",
       "      <td>1.97</td>\n",
       "      <td>18.51</td>\n",
       "    </tr>\n",
       "  </tbody>\n",
       "</table>\n",
       "</div>"
      ],
      "text/plain": [
       "              1m    3m    6m     1y    3y     fs\n",
       "name                                            \n",
       "易方达天天理财货币A  0.35  3.41  1.04  11.15  1.97  18.51"
      ]
     },
     "execution_count": 23,
     "metadata": {},
     "output_type": "execute_result"
    }
   ],
   "source": [
    "data_drop_percent.head(1)"
   ]
  },
  {
   "cell_type": "code",
   "execution_count": 74,
   "metadata": {
    "collapsed": true
   },
   "outputs": [],
   "source": [
    "# 取长期收益前100，中期（3个月）收益前200，短期（1个月）收益前100名，单独存到不同 DataFrame中，为后续统计不同时间段最优基金\n",
    "top1 = 100\n",
    "top2 = 200\n",
    "top3 = 300\n",
    "m1 = data_drop_percent.sort_values(by=['1m'],ascending=False).head(top3)\n",
    "m3 = data_drop_percent.sort_values(by=['3m'],ascending=False).head(top2)\n",
    "m6 = data_drop_percent.sort_values(by=['6m'],ascending=False).head(top1)\n",
    "y1 = data_drop_percent.sort_values(by=['1y'],ascending=False).head(top1)\n",
    "y3 = data_drop_percent.sort_values(by=['3y'],ascending=False).head(top1)\n",
    "fs = data_drop_percent.sort_values(by=['fs'],ascending=False).head(top1)"
   ]
  },
  {
   "cell_type": "code",
   "execution_count": 63,
   "metadata": {
    "collapsed": true
   },
   "outputs": [],
   "source": [
    "# 所有基金各周期排名\n",
    "ranks = data_drop_percent.rank(ascending=False)"
   ]
  },
  {
   "cell_type": "code",
   "execution_count": 75,
   "metadata": {},
   "outputs": [
    {
     "data": {
      "text/html": [
       "<div>\n",
       "<style>\n",
       "    .dataframe thead tr:only-child th {\n",
       "        text-align: right;\n",
       "    }\n",
       "\n",
       "    .dataframe thead th {\n",
       "        text-align: left;\n",
       "    }\n",
       "\n",
       "    .dataframe tbody tr th {\n",
       "        vertical-align: top;\n",
       "    }\n",
       "</style>\n",
       "<table border=\"1\" class=\"dataframe\">\n",
       "  <thead>\n",
       "    <tr style=\"text-align: right;\">\n",
       "      <th></th>\n",
       "      <th>1m</th>\n",
       "      <th>3m</th>\n",
       "      <th>6m</th>\n",
       "      <th>1y</th>\n",
       "      <th>3y</th>\n",
       "      <th>fs</th>\n",
       "    </tr>\n",
       "    <tr>\n",
       "      <th>name</th>\n",
       "      <th></th>\n",
       "      <th></th>\n",
       "      <th></th>\n",
       "      <th></th>\n",
       "      <th></th>\n",
       "      <th></th>\n",
       "    </tr>\n",
       "  </thead>\n",
       "  <tbody>\n",
       "    <tr>\n",
       "      <th>易方达天天理财货币A</th>\n",
       "      <td>3348.0</td>\n",
       "      <td>1914.0</td>\n",
       "      <td>4293.5</td>\n",
       "      <td>1756.5</td>\n",
       "      <td>3049.5</td>\n",
       "      <td>2084.5</td>\n",
       "    </tr>\n",
       "    <tr>\n",
       "      <th>易方达天天理财货币R</th>\n",
       "      <td>3129.0</td>\n",
       "      <td>1735.5</td>\n",
       "      <td>4015.0</td>\n",
       "      <td>1681.5</td>\n",
       "      <td>2793.0</td>\n",
       "      <td>1995.5</td>\n",
       "    </tr>\n",
       "    <tr>\n",
       "      <th>华夏大盘精选</th>\n",
       "      <td>5616.5</td>\n",
       "      <td>509.5</td>\n",
       "      <td>833.0</td>\n",
       "      <td>431.5</td>\n",
       "      <td>324.0</td>\n",
       "      <td>1.0</td>\n",
       "    </tr>\n",
       "    <tr>\n",
       "      <th>华夏成长</th>\n",
       "      <td>5548.5</td>\n",
       "      <td>1588.5</td>\n",
       "      <td>2053.5</td>\n",
       "      <td>1250.5</td>\n",
       "      <td>977.0</td>\n",
       "      <td>51.0</td>\n",
       "    </tr>\n",
       "    <tr>\n",
       "      <th>华夏聚利债券</th>\n",
       "      <td>2032.0</td>\n",
       "      <td>3545.5</td>\n",
       "      <td>2609.0</td>\n",
       "      <td>1555.0</td>\n",
       "      <td>3897.0</td>\n",
       "      <td>2183.0</td>\n",
       "    </tr>\n",
       "  </tbody>\n",
       "</table>\n",
       "</div>"
      ],
      "text/plain": [
       "                1m      3m      6m      1y      3y      fs\n",
       "name                                                      \n",
       "易方达天天理财货币A  3348.0  1914.0  4293.5  1756.5  3049.5  2084.5\n",
       "易方达天天理财货币R  3129.0  1735.5  4015.0  1681.5  2793.0  1995.5\n",
       "华夏大盘精选      5616.5   509.5   833.0   431.5   324.0     1.0\n",
       "华夏成长        5548.5  1588.5  2053.5  1250.5   977.0    51.0\n",
       "华夏聚利债券      2032.0  3545.5  2609.0  1555.0  3897.0  2183.0"
      ]
     },
     "execution_count": 75,
     "metadata": {},
     "output_type": "execute_result"
    }
   ],
   "source": [
    "ranks.head()\n",
    "#ranks.sort_values(['6m']).iloc[0:100,:]"
   ]
  },
  {
   "cell_type": "code",
   "execution_count": null,
   "metadata": {
    "collapsed": true
   },
   "outputs": [],
   "source": []
  },
  {
   "cell_type": "code",
   "execution_count": 76,
   "metadata": {
    "collapsed": true
   },
   "outputs": [],
   "source": [
    "# 按照各周期组合，组成不同周期前100名的新DF，以便筛选最优基金\n",
    "total_keys = ['1m','3m','6m','1y','3y','fs']\n",
    "near2 = pd.merge(m1, m3, left_index=True, how='inner', on=total_keys)\n",
    "near3 = pd.merge(m6, near2, left_index=True, how='inner', on=total_keys)\n",
    "near4 = pd.merge(y1, near3, left_index=True, how='inner', on=total_keys)\n",
    "near5 = pd.merge(y3, near4, left_index=True, how='inner', on=total_keys)\n",
    "total = pd.merge(fs, near5, left_index=True, how='inner', on=total_keys)"
   ]
  },
  {
   "cell_type": "code",
   "execution_count": 77,
   "metadata": {},
   "outputs": [
    {
     "data": {
      "text/html": [
       "<div>\n",
       "<style>\n",
       "    .dataframe thead tr:only-child th {\n",
       "        text-align: right;\n",
       "    }\n",
       "\n",
       "    .dataframe thead th {\n",
       "        text-align: left;\n",
       "    }\n",
       "\n",
       "    .dataframe tbody tr th {\n",
       "        vertical-align: top;\n",
       "    }\n",
       "</style>\n",
       "<table border=\"1\" class=\"dataframe\">\n",
       "  <thead>\n",
       "    <tr style=\"text-align: right;\">\n",
       "      <th></th>\n",
       "      <th>1m</th>\n",
       "      <th>3m</th>\n",
       "      <th>6m</th>\n",
       "      <th>1y</th>\n",
       "      <th>3y</th>\n",
       "      <th>fs</th>\n",
       "    </tr>\n",
       "    <tr>\n",
       "      <th>name</th>\n",
       "      <th></th>\n",
       "      <th></th>\n",
       "      <th></th>\n",
       "      <th></th>\n",
       "      <th></th>\n",
       "      <th></th>\n",
       "    </tr>\n",
       "  </thead>\n",
       "  <tbody>\n",
       "  </tbody>\n",
       "</table>\n",
       "</div>"
      ],
      "text/plain": [
       "Empty DataFrame\n",
       "Columns: [1m, 3m, 6m, 1y, 3y, fs]\n",
       "Index: []"
      ]
     },
     "execution_count": 77,
     "metadata": {},
     "output_type": "execute_result"
    }
   ],
   "source": [
    "total\n",
    "# 所有周期排名均为前100的基金：无"
   ]
  },
  {
   "cell_type": "code",
   "execution_count": 78,
   "metadata": {},
   "outputs": [
    {
     "data": {
      "text/html": [
       "<div>\n",
       "<style>\n",
       "    .dataframe thead tr:only-child th {\n",
       "        text-align: right;\n",
       "    }\n",
       "\n",
       "    .dataframe thead th {\n",
       "        text-align: left;\n",
       "    }\n",
       "\n",
       "    .dataframe tbody tr th {\n",
       "        vertical-align: top;\n",
       "    }\n",
       "</style>\n",
       "<table border=\"1\" class=\"dataframe\">\n",
       "  <thead>\n",
       "    <tr style=\"text-align: right;\">\n",
       "      <th></th>\n",
       "      <th>1m</th>\n",
       "      <th>3m</th>\n",
       "      <th>6m</th>\n",
       "      <th>1y</th>\n",
       "      <th>3y</th>\n",
       "      <th>fs</th>\n",
       "    </tr>\n",
       "    <tr>\n",
       "      <th>name</th>\n",
       "      <th></th>\n",
       "      <th></th>\n",
       "      <th></th>\n",
       "      <th></th>\n",
       "      <th></th>\n",
       "      <th></th>\n",
       "    </tr>\n",
       "  </thead>\n",
       "  <tbody>\n",
       "    <tr>\n",
       "      <th>南方消费进取</th>\n",
       "      <td>7.27</td>\n",
       "      <td>63.15</td>\n",
       "      <td>30.83</td>\n",
       "      <td>241.94</td>\n",
       "      <td>37.43</td>\n",
       "      <td>231.36</td>\n",
       "    </tr>\n",
       "  </tbody>\n",
       "</table>\n",
       "</div>"
      ],
      "text/plain": [
       "          1m     3m     6m      1y     3y      fs\n",
       "name                                             \n",
       "南方消费进取  7.27  63.15  30.83  241.94  37.43  231.36"
      ]
     },
     "execution_count": 78,
     "metadata": {},
     "output_type": "execute_result"
    }
   ],
   "source": [
    "near5\n",
    "# 近3年每次排名均为前100的基金：无"
   ]
  },
  {
   "cell_type": "code",
   "execution_count": 79,
   "metadata": {},
   "outputs": [
    {
     "data": {
      "text/html": [
       "<div>\n",
       "<style>\n",
       "    .dataframe thead tr:only-child th {\n",
       "        text-align: right;\n",
       "    }\n",
       "\n",
       "    .dataframe thead th {\n",
       "        text-align: left;\n",
       "    }\n",
       "\n",
       "    .dataframe tbody tr th {\n",
       "        vertical-align: top;\n",
       "    }\n",
       "</style>\n",
       "<table border=\"1\" class=\"dataframe\">\n",
       "  <thead>\n",
       "    <tr style=\"text-align: right;\">\n",
       "      <th></th>\n",
       "      <th>1m</th>\n",
       "      <th>3m</th>\n",
       "      <th>6m</th>\n",
       "      <th>1y</th>\n",
       "      <th>3y</th>\n",
       "      <th>fs</th>\n",
       "    </tr>\n",
       "    <tr>\n",
       "      <th>name</th>\n",
       "      <th></th>\n",
       "      <th></th>\n",
       "      <th></th>\n",
       "      <th></th>\n",
       "      <th></th>\n",
       "      <th></th>\n",
       "    </tr>\n",
       "  </thead>\n",
       "  <tbody>\n",
       "    <tr>\n",
       "      <th>南方消费进取</th>\n",
       "      <td>7.27</td>\n",
       "      <td>63.15</td>\n",
       "      <td>30.83</td>\n",
       "      <td>241.94</td>\n",
       "      <td>37.43</td>\n",
       "      <td>231.36</td>\n",
       "    </tr>\n",
       "    <tr>\n",
       "      <th>浙商进取</th>\n",
       "      <td>5.16</td>\n",
       "      <td>28.26</td>\n",
       "      <td>23.02</td>\n",
       "      <td>119.68</td>\n",
       "      <td>22.22</td>\n",
       "      <td>50.70</td>\n",
       "    </tr>\n",
       "  </tbody>\n",
       "</table>\n",
       "</div>"
      ],
      "text/plain": [
       "          1m     3m     6m      1y     3y      fs\n",
       "name                                             \n",
       "南方消费进取  7.27  63.15  30.83  241.94  37.43  231.36\n",
       "浙商进取    5.16  28.26  23.02  119.68  22.22   50.70"
      ]
     },
     "execution_count": 79,
     "metadata": {},
     "output_type": "execute_result"
    }
   ],
   "source": [
    "near4.sort_values('1y',ascending=False)\n",
    "# 近1年每次排名均为前100的基金：无"
   ]
  },
  {
   "cell_type": "code",
   "execution_count": 80,
   "metadata": {
    "scrolled": false
   },
   "outputs": [
    {
     "data": {
      "text/html": [
       "<div>\n",
       "<style>\n",
       "    .dataframe thead tr:only-child th {\n",
       "        text-align: right;\n",
       "    }\n",
       "\n",
       "    .dataframe thead th {\n",
       "        text-align: left;\n",
       "    }\n",
       "\n",
       "    .dataframe tbody tr th {\n",
       "        vertical-align: top;\n",
       "    }\n",
       "</style>\n",
       "<table border=\"1\" class=\"dataframe\">\n",
       "  <thead>\n",
       "    <tr style=\"text-align: right;\">\n",
       "      <th></th>\n",
       "      <th>1m</th>\n",
       "      <th>3m</th>\n",
       "      <th>6m</th>\n",
       "      <th>1y</th>\n",
       "      <th>3y</th>\n",
       "      <th>fs</th>\n",
       "    </tr>\n",
       "    <tr>\n",
       "      <th>name</th>\n",
       "      <th></th>\n",
       "      <th></th>\n",
       "      <th></th>\n",
       "      <th></th>\n",
       "      <th></th>\n",
       "      <th></th>\n",
       "    </tr>\n",
       "  </thead>\n",
       "  <tbody>\n",
       "    <tr>\n",
       "      <th>中融中证煤炭指数分级B</th>\n",
       "      <td>28.28</td>\n",
       "      <td>63.70</td>\n",
       "      <td>102.97</td>\n",
       "      <td>NaN</td>\n",
       "      <td>51.20</td>\n",
       "      <td>-24.70</td>\n",
       "    </tr>\n",
       "    <tr>\n",
       "      <th>中融国证钢铁行业指数分级B</th>\n",
       "      <td>52.66</td>\n",
       "      <td>96.57</td>\n",
       "      <td>69.18</td>\n",
       "      <td>NaN</td>\n",
       "      <td>46.59</td>\n",
       "      <td>-82.40</td>\n",
       "    </tr>\n",
       "    <tr>\n",
       "      <th>信诚中证800有色指数分级B</th>\n",
       "      <td>28.50</td>\n",
       "      <td>54.89</td>\n",
       "      <td>65.03</td>\n",
       "      <td>-24.36</td>\n",
       "      <td>50.42</td>\n",
       "      <td>-32.22</td>\n",
       "    </tr>\n",
       "    <tr>\n",
       "      <th>招商中证煤炭等权指数分级B</th>\n",
       "      <td>25.88</td>\n",
       "      <td>49.03</td>\n",
       "      <td>61.31</td>\n",
       "      <td>NaN</td>\n",
       "      <td>32.97</td>\n",
       "      <td>-48.16</td>\n",
       "    </tr>\n",
       "    <tr>\n",
       "      <th>鹏华钢铁分级B</th>\n",
       "      <td>42.28</td>\n",
       "      <td>87.89</td>\n",
       "      <td>57.82</td>\n",
       "      <td>NaN</td>\n",
       "      <td>43.57</td>\n",
       "      <td>27.20</td>\n",
       "    </tr>\n",
       "  </tbody>\n",
       "</table>\n",
       "</div>"
      ],
      "text/plain": [
       "                   1m     3m      6m     1y     3y     fs\n",
       "name                                                     \n",
       "中融中证煤炭指数分级B     28.28  63.70  102.97    NaN  51.20 -24.70\n",
       "中融国证钢铁行业指数分级B   52.66  96.57   69.18    NaN  46.59 -82.40\n",
       "信诚中证800有色指数分级B  28.50  54.89   65.03 -24.36  50.42 -32.22\n",
       "招商中证煤炭等权指数分级B   25.88  49.03   61.31    NaN  32.97 -48.16\n",
       "鹏华钢铁分级B         42.28  87.89   57.82    NaN  43.57  27.20"
      ]
     },
     "execution_count": 80,
     "metadata": {},
     "output_type": "execute_result"
    }
   ],
   "source": [
    "near3.sort_values('6m',ascending=False).head()\n",
    "# 近6个月，3个月，1个月名均为前100的基金"
   ]
  },
  {
   "cell_type": "code",
   "execution_count": 81,
   "metadata": {
    "scrolled": true
   },
   "outputs": [
    {
     "data": {
      "text/html": [
       "<div>\n",
       "<style>\n",
       "    .dataframe thead tr:only-child th {\n",
       "        text-align: right;\n",
       "    }\n",
       "\n",
       "    .dataframe thead th {\n",
       "        text-align: left;\n",
       "    }\n",
       "\n",
       "    .dataframe tbody tr th {\n",
       "        vertical-align: top;\n",
       "    }\n",
       "</style>\n",
       "<table border=\"1\" class=\"dataframe\">\n",
       "  <thead>\n",
       "    <tr style=\"text-align: right;\">\n",
       "      <th></th>\n",
       "      <th>1m</th>\n",
       "      <th>3m</th>\n",
       "      <th>6m</th>\n",
       "      <th>1y</th>\n",
       "      <th>3y</th>\n",
       "      <th>fs</th>\n",
       "    </tr>\n",
       "    <tr>\n",
       "      <th>name</th>\n",
       "      <th></th>\n",
       "      <th></th>\n",
       "      <th></th>\n",
       "      <th></th>\n",
       "      <th></th>\n",
       "      <th></th>\n",
       "    </tr>\n",
       "  </thead>\n",
       "  <tbody>\n",
       "    <tr>\n",
       "      <th>中融国证钢铁行业指数分级B</th>\n",
       "      <td>52.66</td>\n",
       "      <td>96.57</td>\n",
       "      <td>69.18</td>\n",
       "      <td>NaN</td>\n",
       "      <td>46.59</td>\n",
       "      <td>-82.4</td>\n",
       "    </tr>\n",
       "    <tr>\n",
       "      <th>招商中证白酒指数分级B</th>\n",
       "      <td>21.54</td>\n",
       "      <td>95.72</td>\n",
       "      <td>40.28</td>\n",
       "      <td>NaN</td>\n",
       "      <td>82.12</td>\n",
       "      <td>78.3</td>\n",
       "    </tr>\n",
       "    <tr>\n",
       "      <th>鹏华钢铁分级B</th>\n",
       "      <td>42.28</td>\n",
       "      <td>87.89</td>\n",
       "      <td>57.82</td>\n",
       "      <td>NaN</td>\n",
       "      <td>43.57</td>\n",
       "      <td>27.2</td>\n",
       "    </tr>\n",
       "    <tr>\n",
       "      <th>鹏华酒分级B</th>\n",
       "      <td>18.22</td>\n",
       "      <td>73.18</td>\n",
       "      <td>31.28</td>\n",
       "      <td>NaN</td>\n",
       "      <td>54.48</td>\n",
       "      <td>25.9</td>\n",
       "    </tr>\n",
       "    <tr>\n",
       "      <th>方正富邦保险主题指数分级B</th>\n",
       "      <td>7.38</td>\n",
       "      <td>69.39</td>\n",
       "      <td>46.05</td>\n",
       "      <td>NaN</td>\n",
       "      <td>39.78</td>\n",
       "      <td>36.7</td>\n",
       "    </tr>\n",
       "  </tbody>\n",
       "</table>\n",
       "</div>"
      ],
      "text/plain": [
       "                  1m     3m     6m  1y     3y    fs\n",
       "name                                               \n",
       "中融国证钢铁行业指数分级B  52.66  96.57  69.18 NaN  46.59 -82.4\n",
       "招商中证白酒指数分级B    21.54  95.72  40.28 NaN  82.12  78.3\n",
       "鹏华钢铁分级B        42.28  87.89  57.82 NaN  43.57  27.2\n",
       "鹏华酒分级B         18.22  73.18  31.28 NaN  54.48  25.9\n",
       "方正富邦保险主题指数分级B   7.38  69.39  46.05 NaN  39.78  36.7"
      ]
     },
     "execution_count": 81,
     "metadata": {},
     "output_type": "execute_result"
    }
   ],
   "source": [
    "near2.sort_values('3m',ascending=False).head()\n",
    "# 近3个月，1个月名均为前100的基金"
   ]
  },
  {
   "cell_type": "markdown",
   "metadata": {},
   "source": [
    "### 已知基金名称，比较各周期绝对收益"
   ]
  },
  {
   "cell_type": "code",
   "execution_count": 82,
   "metadata": {},
   "outputs": [
    {
     "data": {
      "text/html": [
       "<div>\n",
       "<style>\n",
       "    .dataframe thead tr:only-child th {\n",
       "        text-align: right;\n",
       "    }\n",
       "\n",
       "    .dataframe thead th {\n",
       "        text-align: left;\n",
       "    }\n",
       "\n",
       "    .dataframe tbody tr th {\n",
       "        vertical-align: top;\n",
       "    }\n",
       "</style>\n",
       "<table border=\"1\" class=\"dataframe\">\n",
       "  <thead>\n",
       "    <tr style=\"text-align: right;\">\n",
       "      <th></th>\n",
       "      <th>1m</th>\n",
       "      <th>3m</th>\n",
       "      <th>6m</th>\n",
       "      <th>1y</th>\n",
       "      <th>3y</th>\n",
       "      <th>fs</th>\n",
       "    </tr>\n",
       "    <tr>\n",
       "      <th>name</th>\n",
       "      <th></th>\n",
       "      <th></th>\n",
       "      <th></th>\n",
       "      <th></th>\n",
       "      <th></th>\n",
       "      <th></th>\n",
       "    </tr>\n",
       "  </thead>\n",
       "  <tbody>\n",
       "    <tr>\n",
       "      <th>南方消费进取</th>\n",
       "      <td>7.27</td>\n",
       "      <td>63.15</td>\n",
       "      <td>30.83</td>\n",
       "      <td>241.94</td>\n",
       "      <td>37.43</td>\n",
       "      <td>231.36</td>\n",
       "    </tr>\n",
       "    <tr>\n",
       "      <th>博时主题行业混合(LOF)</th>\n",
       "      <td>-0.23</td>\n",
       "      <td>16.23</td>\n",
       "      <td>6.51</td>\n",
       "      <td>102.17</td>\n",
       "      <td>11.06</td>\n",
       "      <td>1079.15</td>\n",
       "    </tr>\n",
       "    <tr>\n",
       "      <th>汇丰晋信大盘股票A</th>\n",
       "      <td>1.11</td>\n",
       "      <td>32.32</td>\n",
       "      <td>11.98</td>\n",
       "      <td>196.35</td>\n",
       "      <td>14.90</td>\n",
       "      <td>225.08</td>\n",
       "    </tr>\n",
       "    <tr>\n",
       "      <th>广发行业领先混合A</th>\n",
       "      <td>-0.78</td>\n",
       "      <td>8.46</td>\n",
       "      <td>7.86</td>\n",
       "      <td>87.87</td>\n",
       "      <td>14.54</td>\n",
       "      <td>104.78</td>\n",
       "    </tr>\n",
       "    <tr>\n",
       "      <th>富国低碳环保混合</th>\n",
       "      <td>-4.70</td>\n",
       "      <td>17.27</td>\n",
       "      <td>1.78</td>\n",
       "      <td>130.04</td>\n",
       "      <td>19.62</td>\n",
       "      <td>151.20</td>\n",
       "    </tr>\n",
       "    <tr>\n",
       "      <th>易方达消费行业</th>\n",
       "      <td>1.72</td>\n",
       "      <td>37.25</td>\n",
       "      <td>11.90</td>\n",
       "      <td>100.21</td>\n",
       "      <td>29.72</td>\n",
       "      <td>89.00</td>\n",
       "    </tr>\n",
       "    <tr>\n",
       "      <th>景顺长城新兴成长混合</th>\n",
       "      <td>1.32</td>\n",
       "      <td>21.85</td>\n",
       "      <td>9.32</td>\n",
       "      <td>70.19</td>\n",
       "      <td>24.76</td>\n",
       "      <td>161.59</td>\n",
       "    </tr>\n",
       "  </tbody>\n",
       "</table>\n",
       "</div>"
      ],
      "text/plain": [
       "                 1m     3m     6m      1y     3y       fs\n",
       "name                                                     \n",
       "南方消费进取         7.27  63.15  30.83  241.94  37.43   231.36\n",
       "博时主题行业混合(LOF) -0.23  16.23   6.51  102.17  11.06  1079.15\n",
       "汇丰晋信大盘股票A      1.11  32.32  11.98  196.35  14.90   225.08\n",
       "广发行业领先混合A     -0.78   8.46   7.86   87.87  14.54   104.78\n",
       "富国低碳环保混合      -4.70  17.27   1.78  130.04  19.62   151.20\n",
       "易方达消费行业        1.72  37.25  11.90  100.21  29.72    89.00\n",
       "景顺长城新兴成长混合     1.32  21.85   9.32   70.19  24.76   161.59"
      ]
     },
     "execution_count": 82,
     "metadata": {},
     "output_type": "execute_result"
    }
   ],
   "source": [
    "data_drop_percent.loc[['南方消费进取','博时主题行业混合(LOF)','汇丰晋信大盘股票A','广发行业领先混合A','富国低碳环保混合','易方达消费行业','景顺长城新兴成长混合'],:]"
   ]
  },
  {
   "cell_type": "code",
   "execution_count": null,
   "metadata": {
    "collapsed": true
   },
   "outputs": [],
   "source": []
  }
 ],
 "metadata": {
  "kernelspec": {
   "display_name": "Python 3",
   "language": "python",
   "name": "python3"
  },
  "language_info": {
   "codemirror_mode": {
    "name": "ipython",
    "version": 3
   },
   "file_extension": ".py",
   "mimetype": "text/x-python",
   "name": "python",
   "nbconvert_exporter": "python",
   "pygments_lexer": "ipython3",
   "version": "3.6.1"
  },
  "widgets": {
   "application/vnd.jupyter.widget-state+json": {
    "state": {},
    "version_major": 1,
    "version_minor": 0
   }
  }
 },
 "nbformat": 4,
 "nbformat_minor": 2
}
